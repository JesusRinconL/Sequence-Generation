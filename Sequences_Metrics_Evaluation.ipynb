{
 "cells": [
  {
   "cell_type": "code",
   "execution_count": 31,
   "id": "9a4f343e-4319-47dc-92b7-fab9ec359d5f",
   "metadata": {},
   "outputs": [],
   "source": [
    "import os\n",
    "import numpy as np\n",
    "from PIL import Image\n",
    "import cv2\n",
    "from sklearn.metrics.pairwise import cosine_similarity\n",
    "from scipy.linalg import sqrtm\n",
    "import torch\n",
    "import torch.nn as nn\n",
    "from torchvision.models.video import r2plus1d_18, R2Plus1D_18_Weights\n",
    "import torchvision.transforms as T\n",
    "import matplotlib.pyplot as plt"
   ]
  },
  {
   "cell_type": "markdown",
   "id": "74e2398b-1c74-4ebd-b46f-3738cd728f8f",
   "metadata": {},
   "source": [
    "### Load Images into Sequences"
   ]
  },
  {
   "cell_type": "code",
   "execution_count": 2,
   "id": "bc95dd05-925a-4a0b-80a2-cc0f680ae1c0",
   "metadata": {},
   "outputs": [],
   "source": [
    "def load_sequences_by_pattern(real_folder, gen_folder, real_indices, gen_indices, real_pattern='PANC-1_{i}_real_B.png', gen_pattern='step{i}_generated_fake_B.png', image_size=(224, 224)):\n",
    "    real_images = []\n",
    "    gen_images = []\n",
    "\n",
    "    for i in real_indices:\n",
    "        real_path = os.path.join(real_folder, real_pattern.format(i=i))\n",
    "        if not os.path.exists(real_path):\n",
    "            print(f\"[!] Missing real image: {real_path}\")\n",
    "            continue\n",
    "        img = Image.open(real_path).convert('RGB').resize(image_size)\n",
    "        real_images.append(np.array(img) / 255.0)\n",
    "\n",
    "    for i in gen_indices:\n",
    "        gen_path = os.path.join(gen_folder, gen_pattern.format(i=i))\n",
    "        if not os.path.exists(gen_path):\n",
    "            print(f\"[!] Missing generated image: {gen_path}\")\n",
    "            continue\n",
    "        img = Image.open(gen_path).convert('RGB').resize(image_size)\n",
    "        gen_images.append(np.array(img) / 255.0)\n",
    "\n",
    "    real_seq = np.stack(real_images, axis=0)\n",
    "    gen_seq = np.stack(gen_images, axis=0)\n",
    "\n",
    "    return real_seq, gen_seq"
   ]
  },
  {
   "cell_type": "code",
   "execution_count": 147,
   "id": "9d9871d8-657f-443c-acde-8a14078ee23f",
   "metadata": {},
   "outputs": [
    {
     "name": "stdout",
     "output_type": "stream",
     "text": [
      "Real sequence shape: (15, 256, 256, 3)\n",
      "Generated sequence shape: (15, 256, 256, 3)\n"
     ]
    }
   ],
   "source": [
    "real_folder1= \"C:\\\\Users\\\\Jesus\\\\Documents\\\\TFM\\\\PROYECTO4\\\\results\\\\dualseq-CSIC-top_left\\\\dualseq-bt_rg-v1\\\\test_latest\\\\images\\\\\"\n",
    "real_folder2= \"C:\\\\Users\\\\Jesus\\\\Documents\\\\TFM\\\\PROYECTO3\\\\csic\\\\top_left\\\\\"\n",
    "gen_folder1 = \"C:\\\\Users\\\\Jesus\\\\Documents\\\\TFM\\\\PROYECTO4\\\\results\\\\dualseq-CSIC-top_left_recur2\\\\dualseq-bt_rg-v1_sketch\\\\test_latest\\\\images\\\\\"\n",
    "#real_pattern='PANC-1_{i}.jpg',\n",
    "#real_pattern='PANC-1_{i}_real_A.png',\n",
    "#gen_pattern ='step{i}_generated_fake_B.png',\n",
    "gen_folder = \"C:\\\\Users\\\\Jesus\\\\Documents\\\\TFM\\\\PROYECTO4\\\\results\\\\dualseq-basic1_recur\\\\dualseq-basic-v1\\\\test_latest\\\\images\\\\\"\n",
    "real_folder = \"C:\\\\Users\\\\Jesus\\\\Documents\\\\TFM\\\\PROYECTO2\\\\results\\\\seq-basic-v1\\\\test_latest\\\\images\\\\\"\n",
    "\n",
    "real_seq, gen_seq = load_sequences_by_pattern(\n",
    "    real_folder=real_folder,\n",
    "    gen_folder=gen_folder,\n",
    "    real_indices=range(280, 295),\n",
    "    gen_indices= range(0, 15),\n",
    "    real_pattern='{i}_real_B.png',\n",
    "    gen_pattern ='step{i}_generated_fake_B.png',\n",
    "    image_size=(256, 256)\n",
    ")\n",
    "\n",
    "print(\"Real sequence shape:\", real_seq.shape)\n",
    "print(\"Generated sequence shape:\", gen_seq.shape)"
   ]
  },
  {
   "cell_type": "markdown",
   "id": "9a79ab22-bbbc-4131-8938-c2c21a8d82a9",
   "metadata": {},
   "source": [
    "## Embedding Distasnce"
   ]
  },
  {
   "cell_type": "code",
   "execution_count": 4,
   "id": "59f22708-ec04-492b-a50f-83cb63ffe5dd",
   "metadata": {},
   "outputs": [],
   "source": [
    "def compute_embedding_distance(real_feats, gen_feats, metric='cosine'): #### COSINE OR EUCLIDEN\n",
    "    from sklearn.metrics.pairwise import cosine_similarity\n",
    "    if metric == 'cosine':\n",
    "        sims = cosine_similarity(real_feats, gen_feats)\n",
    "        distances = 1 - np.diag(sims)\n",
    "    elif metric == 'euclidean':\n",
    "        distances = np.linalg.norm(real_feats - gen_feats, axis=1)\n",
    "    else:\n",
    "        raise ValueError(\"Unsupported metric\")\n",
    "    return np.mean(distances)"
   ]
  },
  {
   "cell_type": "markdown",
   "id": "38ebf4d6-8fbf-4709-b490-2809810a09ce",
   "metadata": {},
   "source": [
    "## Motion Consistency Score "
   ]
  },
  {
   "cell_type": "code",
   "execution_count": 5,
   "id": "f3541fa1-08d0-4773-b25f-b0dfe1b3956b",
   "metadata": {},
   "outputs": [],
   "source": [
    "def compute_motion_consistency(real_seq, gen_seq):\n",
    "    flow_sims = []\n",
    "    for i in range(len(real_seq) - 1):\n",
    "        r1 = cv2.cvtColor((real_seq[i] * 255).astype(np.uint8), cv2.COLOR_RGB2GRAY)\n",
    "        r2 = cv2.cvtColor((real_seq[i + 1] * 255).astype(np.uint8), cv2.COLOR_RGB2GRAY)\n",
    "        g1 = cv2.cvtColor((gen_seq[i] * 255).astype(np.uint8), cv2.COLOR_RGB2GRAY)\n",
    "        g2 = cv2.cvtColor((gen_seq[i + 1] * 255).astype(np.uint8), cv2.COLOR_RGB2GRAY)\n",
    "\n",
    "        flow_r = cv2.calcOpticalFlowFarneback(r1, r2, None, 0.5, 3, 15, 3, 5, 1.2, 0)\n",
    "        flow_g = cv2.calcOpticalFlowFarneback(g1, g2, None, 0.5, 3, 15, 3, 5, 1.2, 0)\n",
    "\n",
    "        fr = flow_r.reshape(-1, 2)\n",
    "        fg = flow_g.reshape(-1, 2)\n",
    "\n",
    "        sim = np.mean([\n",
    "            np.dot(fr[j], fg[j]) / (np.linalg.norm(fr[j]) * np.linalg.norm(fg[j]) + 1e-6)\n",
    "            for j in range(len(fr))\n",
    "        ])\n",
    "        flow_sims.append(sim)\n",
    "    return np.mean(flow_sims)"
   ]
  },
  {
   "cell_type": "markdown",
   "id": "da592496-eb03-4563-98b8-c3035bd9574c",
   "metadata": {},
   "source": [
    "## Optical Flow Consistency"
   ]
  },
  {
   "cell_type": "code",
   "execution_count": 6,
   "id": "ecd43b0a-2fc6-4de0-9846-94d2b78558fd",
   "metadata": {},
   "outputs": [],
   "source": [
    "def compute_optical_flow_consistency(sequence):\n",
    "    total_flow_magnitude = 0.0\n",
    "    count = 0\n",
    "\n",
    "    for i in range(len(sequence) - 1):\n",
    "        prev = cv2.cvtColor((sequence[i] * 255).astype(np.uint8), cv2.COLOR_RGB2GRAY)\n",
    "        next = cv2.cvtColor((sequence[i+1] * 255).astype(np.uint8), cv2.COLOR_RGB2GRAY)\n",
    "\n",
    "        flow = cv2.calcOpticalFlowFarneback(prev, next, None,\n",
    "                                            pyr_scale=0.5, levels=3, winsize=15,\n",
    "                                            iterations=3, poly_n=5, poly_sigma=1.2, flags=0)\n",
    "        mag, _ = cv2.cartToPolar(flow[..., 0], flow[..., 1])\n",
    "        total_flow_magnitude += np.mean(mag)\n",
    "        count += 1\n",
    "\n",
    "    return total_flow_magnitude / count"
   ]
  },
  {
   "cell_type": "markdown",
   "id": "67172fe6-eb10-4272-abe0-034759a5c329",
   "metadata": {},
   "source": [
    "## Trajectory Diversity Score"
   ]
  },
  {
   "cell_type": "code",
   "execution_count": 7,
   "id": "0a679f9b-d05f-4b4c-9512-688b5337d615",
   "metadata": {},
   "outputs": [],
   "source": [
    "def compute_trajectory_diversity(sequence):\n",
    "    diffs = []\n",
    "    for i in range(len(sequence) - 1):\n",
    "        diff = np.linalg.norm(sequence[i + 1] - sequence[i])\n",
    "        diffs.append(diff)\n",
    "    return np.mean(diffs)"
   ]
  },
  {
   "cell_type": "markdown",
   "id": "cc162577-1559-4786-b5df-a5d977efb590",
   "metadata": {},
   "source": [
    "### Feature extraction"
   ]
  },
  {
   "cell_type": "code",
   "execution_count": 148,
   "id": "6eb720a2-509f-45b3-92cb-df5f6a57fd1e",
   "metadata": {},
   "outputs": [],
   "source": [
    "device = 'cuda' if torch.cuda.is_available() else 'cpu'\n",
    "\n",
    "# Cargar modelo preentrenado sin la capa final (solo features)\n",
    "weights = R2Plus1D_18_Weights.DEFAULT\n",
    "model = r2plus1d_18(weights=weights).to(device).eval()\n",
    "feature_extractor = nn.Sequential(*list(model.children())[:-1])"
   ]
  },
  {
   "cell_type": "code",
   "execution_count": 149,
   "id": "75d3f42d-2c73-4cae-8e2c-c3749d364cab",
   "metadata": {},
   "outputs": [],
   "source": [
    "def extract_video_feature(sequence_np, model, device='cuda'):\n",
    "    transform = T.Compose([\n",
    "        T.ToTensor(),  # C,H,W\n",
    "        T.Resize((112, 112)),\n",
    "        T.Normalize(mean=[0.43216, 0.394666, 0.37645],\n",
    "                    std=[0.22803, 0.22145, 0.216989])\n",
    "    ])\n",
    "\n",
    "    frames = [\n",
    "        transform(Image.fromarray((frame * 255).astype(np.uint8)).convert(\"RGB\")).unsqueeze(0)\n",
    "        for frame in sequence_np\n",
    "    ]\n",
    "\n",
    "    video_tensor = torch.cat(frames, dim=0).permute(1, 0, 2, 3)  # C,T,H,W\n",
    "    video_tensor = video_tensor.unsqueeze(0).to(device).float()\n",
    "\n",
    "    with torch.no_grad():\n",
    "        features = model(video_tensor).cpu().numpy().reshape(-1)\n",
    "\n",
    "    return features  # (512,)"
   ]
  },
  {
   "cell_type": "code",
   "execution_count": 150,
   "id": "1418f123-ddeb-45ca-8d9d-d34c4d16cceb",
   "metadata": {},
   "outputs": [],
   "source": [
    "real_feats = extract_video_feature(real_seq, feature_extractor, device).reshape(1, -1)\n",
    "gen_feats = extract_video_feature(gen_seq, feature_extractor, device).reshape(1, -1)"
   ]
  },
  {
   "cell_type": "code",
   "execution_count": 151,
   "id": "1bf1d8e1-1409-4698-8fc0-e789ce5d8f4c",
   "metadata": {},
   "outputs": [
    {
     "name": "stdout",
     "output_type": "stream",
     "text": [
      "real_feats shape: (1, 512)\n",
      "gen_feats shape: (1, 512)\n"
     ]
    }
   ],
   "source": [
    "print(\"real_feats shape:\", real_feats.shape)\n",
    "print(\"gen_feats shape:\", gen_feats.shape)"
   ]
  },
  {
   "cell_type": "code",
   "execution_count": 152,
   "id": "375ae7af-618f-49a5-a2b3-65f17a243d8e",
   "metadata": {},
   "outputs": [],
   "source": [
    "real_feats = np.stack([extract_video_feature(seq, model, device) for seq in real_seq])\n",
    "gen_feats = np.stack([extract_video_feature(seq, model, device) for seq in gen_seq])"
   ]
  },
  {
   "cell_type": "markdown",
   "id": "4e7f3ff5-7fba-4ffa-a206-4ff6229ad1fe",
   "metadata": {},
   "source": [
    "## FVD PyTorch version"
   ]
  },
  {
   "cell_type": "code",
   "execution_count": 153,
   "id": "0f3208e3-c8c6-45a5-8bfb-6baf6ec2b124",
   "metadata": {},
   "outputs": [],
   "source": [
    "def compute_frechet_distance(mu1, sigma1, mu2, sigma2):\n",
    "    diff = mu1 - mu2\n",
    "    covmean = sqrtm(sigma1 @ sigma2)\n",
    "    if np.iscomplexobj(covmean):\n",
    "        covmean = covmean.real\n",
    "    return diff.dot(diff) + np.trace(sigma1 + sigma2 - 2 * covmean)\n",
    "\n",
    "def compute_fvd_pytorch(real_feats, gen_feats):\n",
    "    mu_r, sigma_r = np.mean(real_feats, axis=0), np.cov(real_feats.T)\n",
    "    mu_g, sigma_g = np.mean(gen_feats, axis=0), np.cov(gen_feats.T)\n",
    "    return compute_frechet_distance(mu_r, sigma_r, mu_g, sigma_g)"
   ]
  },
  {
   "cell_type": "markdown",
   "id": "ff8f69eb-9477-47be-ba9a-e744f941c7d8",
   "metadata": {},
   "source": [
    "## Evaluator"
   ]
  },
  {
   "cell_type": "code",
   "execution_count": 154,
   "id": "131c877c-aef4-40d9-bcc1-1f8b8dd6f696",
   "metadata": {},
   "outputs": [],
   "source": [
    "def evaluate_sequence_metrics(real_seq, gen_seq, real_feats=None, gen_feats=None):\n",
    "    metrics = {}\n",
    "    metrics_real = {}\n",
    "\n",
    "    metrics[\"FVD\"] = compute_fvd_pytorch(real_feats, gen_feats)\n",
    "    metrics[\"Embedding Distance\"] = compute_embedding_distance(real_feats, gen_feats)\n",
    "    metrics[\"Motion Consistency\"] = compute_motion_consistency(real_seq, gen_seq)\n",
    "    \n",
    "    metrics[\"Optical Flow Consistency\"] = compute_optical_flow_consistency(gen_seq)\n",
    "    metrics[\"Trajectory Diversity\"] = compute_trajectory_diversity(gen_seq)\n",
    "    metrics_real[\"Optical Flow Consistency\"] = compute_optical_flow_consistency(real_seq)\n",
    "    metrics_real[\"Trajectory Diversity\"] = compute_trajectory_diversity(real_seq)\n",
    "    \n",
    "    return metrics, metrics_real"
   ]
  },
  {
   "cell_type": "code",
   "execution_count": 155,
   "id": "27760902-0b4d-436f-a7d8-c870cb543c88",
   "metadata": {},
   "outputs": [
    {
     "name": "stdout",
     "output_type": "stream",
     "text": [
      "FVD: 105.8050\n",
      "Embedding Distance: 0.0163\n",
      "Motion Consistency: -0.0071\n",
      "Optical Flow Consistency: 0.1071\n",
      "Trajectory Diversity: 7.0923\n",
      "\n",
      "Realistic sequence metrics:\n",
      "Optical Flow Consistency: 0.2160\n",
      "Trajectory Diversity: 9.2912\n"
     ]
    }
   ],
   "source": [
    "metrics, metrics_real = evaluate_sequence_metrics(real_seq, gen_seq, real_feats, gen_feats)\n",
    "for name, value in metrics.items():\n",
    "    print(f\"{name}: {value:.4f}\")\n",
    "\n",
    "print(\"\\nRealistic sequence metrics:\")\n",
    "for name, value in metrics_real.items():\n",
    "    print(f\"{name}: {value:.4f}\")"
   ]
  },
  {
   "cell_type": "markdown",
   "id": "ccf61a40-e382-45eb-8ee7-48d08fcc73ff",
   "metadata": {},
   "source": [
    "### Optical Flow Consistency VS Trajectory Diversity"
   ]
  },
  {
   "cell_type": "code",
   "execution_count": 156,
   "id": "60c6b380-5bb1-4f00-bb64-c771169112d9",
   "metadata": {},
   "outputs": [],
   "source": [
    "flow_gen = metrics.get(\"Optical Flow Consistency\", None)\n",
    "traj_gen = metrics.get(\"Trajectory Diversity\", None)\n",
    "flow_real = metrics_real.get(\"Optical Flow Consistency\", None)\n",
    "traj_real = metrics_real.get(\"Trajectory Diversity\", None)\n",
    "\n",
    "if None in [flow_gen, traj_gen, flow_real, traj_real]:\n",
    "    raise ValueError(\"Faltan métricas necesarias en los diccionarios.\")\n",
    "\n",
    "labels = ['Optical Flow Consistency', 'Trajectory Diversity']\n",
    "generated = [flow_gen, traj_gen]\n",
    "real = [flow_real, traj_real]\n",
    "\n",
    "x = np.arange(len(labels))  # posiciones en eje X\n",
    "width = 0.35  # ancho de barra"
   ]
  },
  {
   "cell_type": "code",
   "execution_count": 157,
   "id": "7ab8cd6b-9f94-4a9c-87a6-15c437abf3de",
   "metadata": {},
   "outputs": [
    {
     "data": {
      "image/png": "[encoded data removed]",
      "text/plain": [
       "<Figure size 800x500 with 1 Axes>"
      ]
     },
     "metadata": {},
     "output_type": "display_data"
    }
   ],
   "source": [
    "fig, ax = plt.subplots(figsize=(8, 5))\n",
    "\n",
    "bars1 = ax.bar(x - width/2, generated, width, label='Generated', color='#FDB813') \n",
    "bars2 = ax.bar(x + width/2, real, width, label='Real', color='#F15A29')\n",
    "\n",
    "def annotate_bars(bars):\n",
    "    for bar in bars:\n",
    "        height = bar.get_height()\n",
    "        ax.annotate(f'{height:.2f}',\n",
    "                    xy=(bar.get_x() + bar.get_width() / 2, height),\n",
    "                    xytext=(0, 5),  # desplazamiento vertical\n",
    "                    textcoords=\"offset points\",\n",
    "                    ha='center', va='bottom', fontsize=12, fontweight=\"bold\")\n",
    "\n",
    "annotate_bars(bars1)\n",
    "annotate_bars(bars2)\n",
    "\n",
    "ax.set_ylabel('Metric Value', fontsize=18, fontweight=\"bold\")\n",
    "ax.set_title('Sequence Metrics: Generated vs Real', fontsize=18, fontweight=\"bold\")\n",
    "ax.set_xticks(x)\n",
    "ax.set_xticklabels(labels, fontsize=16, fontweight=\"bold\")\n",
    "ax.tick_params(axis='y', labelsize=16)\n",
    "ax.legend(fontsize=16)\n",
    "\n",
    "ax.spines[['top', 'right']].set_visible(False) \n",
    "plt.tight_layout()\n",
    "plt.show()\n"
   ]
  },
  {
   "cell_type": "code",
   "execution_count": null,
   "id": "e7857309-06ff-46df-b132-0406e2c23168",
   "metadata": {},
   "outputs": [],
   "source": []
  }
 ],
 "metadata": {
  "kernelspec": {
   "display_name": "Python 3 (ipykernel)",
   "language": "python",
   "name": "python3"
  },
  "language_info": {
   "codemirror_mode": {
    "name": "ipython",
    "version": 3
   },
   "file_extension": ".py",
   "mimetype": "text/x-python",
   "name": "python",
   "nbconvert_exporter": "python",
   "pygments_lexer": "ipython3",
   "version": "3.11.7"
  }
 },
 "nbformat": 4,
 "nbformat_minor": 5
}
